{
  "nbformat": 4,
  "nbformat_minor": 0,
  "metadata": {
    "colab": {
      "name": "debutTest1.ipynb",
      "provenance": [],
      "authorship_tag": "ABX9TyN3FX/TmYLXiCzmZOMDh6hW",
      "include_colab_link": true
    },
    "kernelspec": {
      "name": "python3",
      "display_name": "Python 3"
    }
  },
  "cells": [
    {
      "cell_type": "markdown",
      "metadata": {
        "id": "view-in-github",
        "colab_type": "text"
      },
      "source": [
        "<a href=\"https://colab.research.google.com/github/dibwe/Ford-Fulkerson-Project/blob/master/debutTest1.ipynb\" target=\"_parent\"><img src=\"https://colab.research.google.com/assets/colab-badge.svg\" alt=\"Open In Colab\"/></a>"
      ]
    },
    {
      "cell_type": "code",
      "metadata": {
        "id": "0fqk7W-jjCNB",
        "colab_type": "code",
        "colab": {
          "base_uri": "https://localhost:8080/",
          "height": 34
        },
        "outputId": "6962ab56-cfc2-40ed-ae7d-133e688ba77a"
      },
      "source": [
        "1+2"
      ],
      "execution_count": 1,
      "outputs": [
        {
          "output_type": "execute_result",
          "data": {
            "text/plain": [
              "3"
            ]
          },
          "metadata": {
            "tags": []
          },
          "execution_count": 1
        }
      ]
    },
    {
      "cell_type": "code",
      "metadata": {
        "id": "o5tobRVKjcdB",
        "colab_type": "code",
        "colab": {
          "base_uri": "https://localhost:8080/",
          "height": 34
        },
        "outputId": "d8ad6a7b-3f24-44af-970f-6e581fe678ab"
      },
      "source": [
        "2.5/5.5"
      ],
      "execution_count": 2,
      "outputs": [
        {
          "output_type": "execute_result",
          "data": {
            "text/plain": [
              "0.45454545454545453"
            ]
          },
          "metadata": {
            "tags": []
          },
          "execution_count": 2
        }
      ]
    },
    {
      "cell_type": "code",
      "metadata": {
        "id": "QViMjOPNk3i2",
        "colab_type": "code",
        "colab": {}
      },
      "source": [
        "\n",
        "a=5\n",
        "b=8"
      ],
      "execution_count": 9,
      "outputs": []
    },
    {
      "cell_type": "code",
      "metadata": {
        "id": "cu4DWr4ok__H",
        "colab_type": "code",
        "colab": {}
      },
      "source": [
        " c = a + b"
      ],
      "execution_count": 11,
      "outputs": []
    },
    {
      "cell_type": "code",
      "metadata": {
        "id": "N-FAHBFXmAnw",
        "colab_type": "code",
        "colab": {
          "base_uri": "https://localhost:8080/",
          "height": 34
        },
        "outputId": "9cea283a-fd2f-404c-97a4-fca7f0440a68"
      },
      "source": [
        "print(c)"
      ],
      "execution_count": 12,
      "outputs": [
        {
          "output_type": "stream",
          "text": [
            "13\n"
          ],
          "name": "stdout"
        }
      ]
    },
    {
      "cell_type": "code",
      "metadata": {
        "id": "PiTZc0d4mcip",
        "colab_type": "code",
        "colab": {
          "base_uri": "https://localhost:8080/",
          "height": 34
        },
        "outputId": "024a362b-a487-4e1b-b3d8-f7778686c7e4"
      },
      "source": [
        "type(c)"
      ],
      "execution_count": 13,
      "outputs": [
        {
          "output_type": "execute_result",
          "data": {
            "text/plain": [
              "int"
            ]
          },
          "metadata": {
            "tags": []
          },
          "execution_count": 13
        }
      ]
    },
    {
      "cell_type": "code",
      "metadata": {
        "id": "u_XfqhFdxEpH",
        "colab_type": "code",
        "colab": {}
      },
      "source": [
        "nom='heber'\n",
        "age=25"
      ],
      "execution_count": 14,
      "outputs": []
    },
    {
      "cell_type": "code",
      "metadata": {
        "id": "7y2JgnDFxN0Q",
        "colab_type": "code",
        "colab": {
          "base_uri": "https://localhost:8080/",
          "height": 34
        },
        "outputId": "68699753-5d3d-4b6a-b5d6-568bcaa2f16c"
      },
      "source": [
        "type(age)"
      ],
      "execution_count": 16,
      "outputs": [
        {
          "output_type": "execute_result",
          "data": {
            "text/plain": [
              "int"
            ]
          },
          "metadata": {
            "tags": []
          },
          "execution_count": 16
        }
      ]
    },
    {
      "cell_type": "code",
      "metadata": {
        "id": "MV5h8i3rxVZc",
        "colab_type": "code",
        "colab": {
          "base_uri": "https://localhost:8080/",
          "height": 34
        },
        "outputId": "fa424146-fab5-4680-86f4-d9a7efd32bfc"
      },
      "source": [
        "print(\"je m'appelle \"+nom+\" j'ai l'age de \"+str(age)+\" ans\")"
      ],
      "execution_count": 22,
      "outputs": [
        {
          "output_type": "stream",
          "text": [
            "je m'appelle heber j'ai l'age de 25 ans\n"
          ],
          "name": "stdout"
        }
      ]
    },
    {
      "cell_type": "code",
      "metadata": {
        "id": "DUk5PtuizAHd",
        "colab_type": "code",
        "colab": {
          "base_uri": "https://localhost:8080/",
          "height": 34
        },
        "outputId": "0cf40057-e10d-41b4-ae2d-5e2be93f50aa"
      },
      "source": [
        "print(f\"je m'appelle {nom}  et j 'ai {age} ans\")"
      ],
      "execution_count": 24,
      "outputs": [
        {
          "output_type": "stream",
          "text": [
            "je m'appelle heber  et j 'ai 25 ans\n"
          ],
          "name": "stdout"
        }
      ]
    },
    {
      "cell_type": "code",
      "metadata": {
        "id": "NuydfLukAOnA",
        "colab_type": "code",
        "colab": {}
      },
      "source": [
        "l=[1,2,3,4,5,6]"
      ],
      "execution_count": 25,
      "outputs": []
    },
    {
      "cell_type": "code",
      "metadata": {
        "id": "IfDmsVKcATZH",
        "colab_type": "code",
        "colab": {
          "base_uri": "https://localhost:8080/",
          "height": 34
        },
        "outputId": "42287abd-bedc-4fd7-c6a9-cbed2f574c65"
      },
      "source": [
        "l.pop(0)"
      ],
      "execution_count": 26,
      "outputs": [
        {
          "output_type": "execute_result",
          "data": {
            "text/plain": [
              "1"
            ]
          },
          "metadata": {
            "tags": []
          },
          "execution_count": 26
        }
      ]
    },
    {
      "cell_type": "code",
      "metadata": {
        "id": "_Wio08smAZzF",
        "colab_type": "code",
        "colab": {
          "base_uri": "https://localhost:8080/",
          "height": 34
        },
        "outputId": "0d16318d-8996-4dcc-d3b7-a82bcf474cab"
      },
      "source": [
        "print(l)"
      ],
      "execution_count": 27,
      "outputs": [
        {
          "output_type": "stream",
          "text": [
            "[2, 3, 4, 5, 6]\n"
          ],
          "name": "stdout"
        }
      ]
    },
    {
      "cell_type": "code",
      "metadata": {
        "id": "DOgNbfquA8St",
        "colab_type": "code",
        "colab": {}
      },
      "source": [
        "l.append(10)"
      ],
      "execution_count": 28,
      "outputs": []
    },
    {
      "cell_type": "code",
      "metadata": {
        "id": "WRrnsPa7BER9",
        "colab_type": "code",
        "colab": {
          "base_uri": "https://localhost:8080/",
          "height": 34
        },
        "outputId": "4f09eab5-75d2-4f33-e092-0ab1dae1ecd6"
      },
      "source": [
        "print(l)"
      ],
      "execution_count": 29,
      "outputs": [
        {
          "output_type": "stream",
          "text": [
            "[2, 3, 4, 5, 6, 10]\n"
          ],
          "name": "stdout"
        }
      ]
    },
    {
      "cell_type": "code",
      "metadata": {
        "id": "c6_wjIooBJXr",
        "colab_type": "code",
        "colab": {}
      },
      "source": [
        "l.reverse()"
      ],
      "execution_count": 30,
      "outputs": []
    },
    {
      "cell_type": "code",
      "metadata": {
        "id": "XwZUi8-4BO8I",
        "colab_type": "code",
        "colab": {
          "base_uri": "https://localhost:8080/",
          "height": 34
        },
        "outputId": "0ecc0505-420d-4b31-8f87-97d933501a87"
      },
      "source": [
        "l"
      ],
      "execution_count": 31,
      "outputs": [
        {
          "output_type": "execute_result",
          "data": {
            "text/plain": [
              "[10, 6, 5, 4, 3, 2]"
            ]
          },
          "metadata": {
            "tags": []
          },
          "execution_count": 31
        }
      ]
    },
    {
      "cell_type": "code",
      "metadata": {
        "id": "mNlZDG1VCwE7",
        "colab_type": "code",
        "colab": {}
      },
      "source": [
        "# set est une structure de donnee , il y a pas des element qui se repete et pas ordonneer\n",
        "fruit_set={'pomme','banane','fraise'}"
      ],
      "execution_count": 32,
      "outputs": []
    },
    {
      "cell_type": "code",
      "metadata": {
        "id": "9nbDQgAdDtiX",
        "colab_type": "code",
        "colab": {}
      },
      "source": [
        "fruit_set.add('pomme')"
      ],
      "execution_count": 33,
      "outputs": []
    },
    {
      "cell_type": "code",
      "metadata": {
        "id": "wS5NtDJTD6cg",
        "colab_type": "code",
        "colab": {
          "base_uri": "https://localhost:8080/",
          "height": 34
        },
        "outputId": "afc0f4d6-6c39-4b0a-c834-be0a502bbc26"
      },
      "source": [
        "print(fruit_set)"
      ],
      "execution_count": 34,
      "outputs": [
        {
          "output_type": "stream",
          "text": [
            "{'banane', 'pomme', 'fraise'}\n"
          ],
          "name": "stdout"
        }
      ]
    },
    {
      "cell_type": "code",
      "metadata": {
        "id": "d10swPdsEdxb",
        "colab_type": "code",
        "colab": {}
      },
      "source": [
        "# le tuple c'est comme le liste la difference est dans un tuple on peux pas modifier un element, \n",
        "# on utilise les parentheses pour les tuples\n",
        "fruit_tuple=('banne','pomme','fraise')"
      ],
      "execution_count": 35,
      "outputs": []
    },
    {
      "cell_type": "code",
      "metadata": {
        "id": "t9UM8CmJFgwC",
        "colab_type": "code",
        "colab": {
          "base_uri": "https://localhost:8080/",
          "height": 34
        },
        "outputId": "16d3b185-c9c2-4095-fd8e-f872e57caefc"
      },
      "source": [
        "fruit_tuple[1:4]"
      ],
      "execution_count": 39,
      "outputs": [
        {
          "output_type": "execute_result",
          "data": {
            "text/plain": [
              "('pomme', 'fraise')"
            ]
          },
          "metadata": {
            "tags": []
          },
          "execution_count": 39
        }
      ]
    },
    {
      "cell_type": "code",
      "metadata": {
        "id": "hOwMVWF5GWoe",
        "colab_type": "code",
        "colab": {}
      },
      "source": [
        "# les operations logique\n",
        "e = 5\n",
        "d = 7"
      ],
      "execution_count": 42,
      "outputs": []
    },
    {
      "cell_type": "code",
      "metadata": {
        "id": "miR09e9Bfohs",
        "colab_type": "code",
        "colab": {
          "base_uri": "https://localhost:8080/",
          "height": 34
        },
        "outputId": "3e140dfb-f15a-4dc3-8d9e-8d33a3ac4421"
      },
      "source": [
        "e >= d and e < d"
      ],
      "execution_count": 44,
      "outputs": [
        {
          "output_type": "execute_result",
          "data": {
            "text/plain": [
              "False"
            ]
          },
          "metadata": {
            "tags": []
          },
          "execution_count": 44
        }
      ]
    },
    {
      "cell_type": "code",
      "metadata": {
        "id": "QgLGgxVBhZhv",
        "colab_type": "code",
        "colab": {}
      },
      "source": [
        "# les expressions condionnelle(if, elif,else )\n",
        "e = 5\n",
        "d = 5"
      ],
      "execution_count": 56,
      "outputs": []
    },
    {
      "cell_type": "code",
      "metadata": {
        "id": "8DvWlwcJiAEs",
        "colab_type": "code",
        "colab": {
          "base_uri": "https://localhost:8080/",
          "height": 34
        },
        "outputId": "2c04e7c9-542a-43ba-c71f-d77de65c5db0"
      },
      "source": [
        "if e<d:\n",
        "  print(f'{e} est inferieur {d}')\n",
        "elif e==d:\n",
        "  print(f\"{e} est egael {d}\")\n",
        "else:\n",
        "  print(f'{e} est superieur {d}')"
      ],
      "execution_count": 57,
      "outputs": [
        {
          "output_type": "stream",
          "text": [
            "5 est egael 5\n"
          ],
          "name": "stdout"
        }
      ]
    },
    {
      "cell_type": "code",
      "metadata": {
        "id": "kTE_U68Mc1pm",
        "colab_type": "code",
        "colab": {
          "base_uri": "https://localhost:8080/",
          "height": 102
        },
        "outputId": "9441d2d9-0be3-4d64-d41f-b73c795d9866"
      },
      "source": [
        "#boucle for\n",
        "z= 'heber'\n",
        "for i in z:\n",
        "  print(i)\n"
      ],
      "execution_count": 1,
      "outputs": [
        {
          "output_type": "stream",
          "text": [
            "h\n",
            "e\n",
            "b\n",
            "e\n",
            "r\n"
          ],
          "name": "stdout"
        }
      ]
    },
    {
      "cell_type": "code",
      "metadata": {
        "id": "fjNgAbdLd4OH",
        "colab_type": "code",
        "colab": {
          "base_uri": "https://localhost:8080/",
          "height": 102
        },
        "outputId": "08cdec9e-d898-4dce-ca7f-49a2ed3ef7df"
      },
      "source": [
        "# range creer un obect iterable\n",
        "for r in range(5):\n",
        "  print(r)"
      ],
      "execution_count": 2,
      "outputs": [
        {
          "output_type": "stream",
          "text": [
            "0\n",
            "1\n",
            "2\n",
            "3\n",
            "4\n"
          ],
          "name": "stdout"
        }
      ]
    },
    {
      "cell_type": "code",
      "metadata": {
        "id": "30RooQBJlkMF",
        "colab_type": "code",
        "colab": {
          "base_uri": "https://localhost:8080/",
          "height": 85
        },
        "outputId": "cb6be078-2d98-4c17-d27c-09f588dd02d5"
      },
      "source": [
        "#boucle while\n",
        "count = 0\n",
        "while count<4:\n",
        "  print(count)\n",
        "  count=count+1\n",
        "  "
      ],
      "execution_count": 12,
      "outputs": [
        {
          "output_type": "stream",
          "text": [
            "0\n",
            "1\n",
            "2\n",
            "3\n"
          ],
          "name": "stdout"
        }
      ]
    },
    {
      "cell_type": "code",
      "metadata": {
        "id": "BDkkf7iGyoKs",
        "colab_type": "code",
        "colab": {}
      },
      "source": [
        "# fonction\n",
        "def saluer(nom):\n",
        "  print(f\"bonjour {nom}\")"
      ],
      "execution_count": 32,
      "outputs": []
    },
    {
      "cell_type": "code",
      "metadata": {
        "id": "hZFCbR8K1czE",
        "colab_type": "code",
        "colab": {}
      },
      "source": [
        "def somme(a,b):\n",
        "  return a+b"
      ],
      "execution_count": 28,
      "outputs": []
    },
    {
      "cell_type": "code",
      "metadata": {
        "id": "2Y9iVQWC0XOP",
        "colab_type": "code",
        "colab": {
          "base_uri": "https://localhost:8080/",
          "height": 34
        },
        "outputId": "d80653ff-eb6a-41e9-c61d-62bd8906224f"
      },
      "source": [
        "message=saluer(\"heber\")"
      ],
      "execution_count": 33,
      "outputs": [
        {
          "output_type": "stream",
          "text": [
            "bonjour heber\n"
          ],
          "name": "stdout"
        }
      ]
    },
    {
      "cell_type": "code",
      "metadata": {
        "id": "aVfcPouI3SsE",
        "colab_type": "code",
        "colab": {}
      },
      "source": [
        ""
      ],
      "execution_count": null,
      "outputs": []
    },
    {
      "cell_type": "code",
      "metadata": {
        "id": "Qevzjzkh1tP6",
        "colab_type": "code",
        "colab": {}
      },
      "source": [
        "c=somme(3,4)"
      ],
      "execution_count": 29,
      "outputs": []
    },
    {
      "cell_type": "code",
      "metadata": {
        "id": "ZOmoE3D8101r",
        "colab_type": "code",
        "colab": {
          "base_uri": "https://localhost:8080/",
          "height": 34
        },
        "outputId": "5afcaac2-7222-4cb4-ff00-fddc43a1af5f"
      },
      "source": [
        "c"
      ],
      "execution_count": 30,
      "outputs": [
        {
          "output_type": "execute_result",
          "data": {
            "text/plain": [
              "7"
            ]
          },
          "metadata": {
            "tags": []
          },
          "execution_count": 30
        }
      ]
    },
    {
      "cell_type": "code",
      "metadata": {
        "id": "UobrexAV6SKm",
        "colab_type": "code",
        "colab": {}
      },
      "source": [
        "# classe\n",
        "class Utilisateur():\n",
        "  def __init__(self,prenon,nom,age):\n",
        "    self.prenon=prenon\n",
        "    self.nom=nom\n",
        "    self.age=age\n",
        "  def bonjouri(self):\n",
        "    return f\" je m'appelle {self.prenon} {self.nom}\"\n",
        "  def mon_age(self):\n",
        "    return f\" mon age est {self.age}\""
      ],
      "execution_count": 34,
      "outputs": []
    },
    {
      "cell_type": "code",
      "metadata": {
        "id": "1qWLV1MU7zKJ",
        "colab_type": "code",
        "colab": {}
      },
      "source": [
        "utilisateur1=Utilisateur('heber','dibwe',25)"
      ],
      "execution_count": 36,
      "outputs": []
    },
    {
      "cell_type": "code",
      "metadata": {
        "id": "KH1VzVnV8I2Z",
        "colab_type": "code",
        "colab": {
          "base_uri": "https://localhost:8080/",
          "height": 35
        },
        "outputId": "1e72c2bc-349f-43dc-b6ac-6979df990c44"
      },
      "source": [
        "utilisateur1.bonjouri()"
      ],
      "execution_count": 39,
      "outputs": [
        {
          "output_type": "execute_result",
          "data": {
            "application/vnd.google.colaboratory.intrinsic+json": {
              "type": "string"
            },
            "text/plain": [
              "\" je m'appelle heber dibwe\""
            ]
          },
          "metadata": {
            "tags": []
          },
          "execution_count": 39
        }
      ]
    }
  ]
}